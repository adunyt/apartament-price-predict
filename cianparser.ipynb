{
 "cells": [
  {
   "cell_type": "code",
   "execution_count": null,
   "metadata": {},
   "outputs": [],
   "source": [
    "%pip install cianparser==0.4.10"
   ]
  },
  {
   "cell_type": "code",
   "execution_count": null,
   "metadata": {},
   "outputs": [],
   "source": [
    "import cianparser\n",
    "    \n",
    "data = cianparser.parse(\n",
    "    deal_type=\"rent_long\",\n",
    "    accommodation_type=\"flat\",\n",
    "    location=\"Москва\",\n",
    "    rooms=(2, 3),\n",
    "    start_page=1,\n",
    "    end_page=2,\n",
    "    is_saving_csv=True,\n",
    "    is_latin=False,\n",
    "    is_express_mode=False,\n",
    "    is_by_homeowner=False,\n",
    ")"
   ]
  }
 ],
 "metadata": {
  "kernelspec": {
   "display_name": "machine_learning",
   "language": "python",
   "name": "python3"
  },
  "language_info": {
   "codemirror_mode": {
    "name": "ipython",
    "version": 3
   },
   "file_extension": ".py",
   "mimetype": "text/x-python",
   "name": "python",
   "nbconvert_exporter": "python",
   "pygments_lexer": "ipython3",
   "version": "3.10.4"
  },
  "orig_nbformat": 4
 },
 "nbformat": 4,
 "nbformat_minor": 2
}
